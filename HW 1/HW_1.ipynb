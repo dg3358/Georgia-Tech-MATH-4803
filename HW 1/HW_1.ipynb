{
 "cells": [
  {
   "cell_type": "markdown",
   "metadata": {},
   "source": [
    "# Homework 1"
   ]
  },
  {
   "cell_type": "markdown",
   "metadata": {},
   "source": [
    "## Theoretical Problems"
   ]
  },
  {
   "cell_type": "markdown",
   "metadata": {},
   "source": [
    "1. Find the least-squares solution $\\overrightarrow{x}$<sup>\\* </sup> of the linear system $$A\\overrightarrow{x} = \\overrightarrow{b}$$ where $$A = \\begin{pmatrix} 1 & 1 \\\\ 1 & 2 \\\\ 1 & 3\\end{pmatrix} \\text{ and } \\overrightarrow{b} = \\begin{pmatrix} 0 \\\\ 0\\\\ 6\\end{pmatrix}$$ What is a geometric relationship between $A\\overrightarrow{x}$<sup>\\*</sup> and $\\overrightarrow{b}$? Draw a picture to illustrate this."
   ]
  },
  {
   "cell_type": "markdown",
   "metadata": {},
   "source": [
    "$\\underline{Solution}$    \n",
    "\n",
    "Using row reduction, we can see that: $$ \\left(\\begin{array}{cc|c}\n",
    "1 & 1 & 0\\\\\n",
    "1 & 2 & 0\\\\\n",
    "1 & 3 & 6\n",
    "\\end{array}\\right) \\xrightarrow[R_2 = R_2 - R_1]{R_3 = R_3 - R_1} \\left(\\begin{array}{cc|c}\n",
    "1 & 1 & 0\\\\\n",
    "0 & 1 & 0\\\\\n",
    "0 & 2 & 6\n",
    "\\end{array}\\right) $$ Note here that $x_2 = 0$ from row 2 but $2x_2 = 6 \\rightarrow x_2 = 3$ from row 3, making a perfect solution impossible. So, we will solve this system by solving the normal equation $A^Tb = A^TAx$<sup>\\*</sup>$\\rightarrow x$<sup>\\*</sup>$= \\left(A^TA\\right)^{-1}A^Tb$.\n",
    "First, we compute $(A^TA)^{-1}$: $$ \\left(\\begin{pmatrix} 1 & 1 & 1 \\\\ 1 & 2 & 3\\end{pmatrix} \\ast \\begin{pmatrix} 1 & 1 \\\\ 1 & 2 \\\\ 1 & 3 \\end{pmatrix}\\right)^{-1} = \\left( \\begin{pmatrix} 3 & 6 \\\\ 6 & 14\\end{pmatrix}\\right)^{-1}$$\n",
    "Note that the determinant of this matrix is $\\det(A^{T}A) = 3(14) - 6(6) = 6$. So we find the inverse: $$(A^TA)^{-1} = \\frac{1}{6}\\begin{pmatrix} 14 & -6 \\\\ -6 & 3\\end{pmatrix} = \\begin{pmatrix} \\frac{7}{3} & -1 \\\\ -1 & \\frac{1}{2}\\end{pmatrix}$$\n",
    "Then, we multiply $A^Tb$:\n",
    "$$\\begin{pmatrix} 1 & 1 & 1 \\\\ 1 & 2 & 3\\end{pmatrix} \\ast \\begin{pmatrix} 0 \\\\ 0 \\\\ 6 \\end{pmatrix} = \\begin{pmatrix} 6 \\\\ 18\\end{pmatrix}$$\n",
    "Then, we multiply $(A^TA)^{-1}A^Tb$:\n",
    "$$x^{\\ast} = (A^TA)^{-1}A^Tb = \\begin{pmatrix} \\frac{7}{3} & -1 \\\\ -1 & \\frac{1}{2}\\end{pmatrix} \\ast \\begin{pmatrix} 6 \\\\ 18 \\end{pmatrix} = \\begin{pmatrix} -4 \\\\ 3 \\end{pmatrix}$$\n",
    "Note that:\n",
    "$$Ax^\\ast = \\begin{pmatrix} 1 & 1 \\\\ 1 & 2 \\\\ 1 & 3 \\end{pmatrix} \\ast \\begin{pmatrix} -4 \\\\ 3 \\end{pmatrix} = \\begin{pmatrix} -1 \\\\ 2 \\\\ 5\\end{pmatrix}$$\n",
    "Graphing both $A$, and $b$ in Geogebra:  \n",
    "<p align = \"center\">\n",
    "<img src = \"HW 1 - Picture (Geogebra).png\"\n",
    "     height = 400px\n",
    "     width = 800px>\n",
    "</p>\n",
    "\n",
    "Here, $A$ is the plane of the two columns going through the origin point. Note that the intersection point of the perpendicular line to $b$ and the plane is $(-1,2,5)$, which is exactly $Ax^\\ast$. Thus, $Ax^\\ast$ is the $\\textbf{orthogonal projection}$ of $b$ onto the plane created by the columns of $A$ going through the origin."
   ]
  },
  {
   "cell_type": "markdown",
   "metadata": {},
   "source": [
    "#### $\\textbf{------------------------------------------------ End of Question 1 ------------------------------------------------}$"
   ]
  },
  {
   "cell_type": "markdown",
   "metadata": {},
   "source": [
    "2. Suppose you wish to a fit a function of the form:\n",
    "$$f(t) = c + p\\sin(t) + q\\cos(t)$$\n",
    "to a given continuous function $g(t)$ on the closed interval from $0$ to $2\\pi$. One approach is to first choose $n + 1$ equally spaced points $a_i$, $i = 0,1,...,n$ bewtween $0$ and $2\\pi$ ($a_i = i\\frac{2\\pi}{n}$, say). We can that fit a function $$f_n(t) = c_n + p_n\\sin(t) + q_n\\cos(t)$$ to the data points $(a_i, g(a_i))$ for $i = 0,...,n$. In this problem, we will examine what happens to the coefficients $c_n, p_n, q_n$ of $f_n(t)$ as $n \\rightarrow +\\infty$.  \n",
    "$\\textbf{a)}$ - For a fixed $n$, write down the linear system for this fitting where $$A_n\\begin{bmatrix}c_n \\\\ p_n \\\\ q_n\\end{bmatrix} = \\overrightarrow{y}$$ where $A_n$ is an $(n + 1) \\times 3$ matrix, and $\\bar{y}$ is a vector of length $n + 1$.  \n",
    "$\\textbf{b)}$ - Find $$\\lim_{n \\rightarrow \\infty}\\frac{2\\pi}{n}A^T_{n}A_n \\text{ and } \\lim_{n \\rightarrow \\infty}\\frac{2\\pi}{n}A^T_{n}\\overrightarrow{y}$$\n",
    "$\\textbf{c)}$ - Find $$\\begin{bmatrix}c_\\infty \\\\ p_\\infty \\\\ q_\\infty\\end{bmatrix} = \\lim_{n \\rightarrow \\infty}\\begin{bmatrix}c_n \\\\ p_n \\\\ q_n\\end{bmatrix}$$ The resulting vector $\\begin{bmatrix}c_\\infty \\\\ p_\\infty \\\\ q_\\infty\\end{bmatrix}$ gives the fitting function $$f_\\infty(t) = c_\\infty + p_{\\infty}\\sin(t) + q_{\\infty}\\cos(t)$$\n",
    "$\\textbf{d)}$ - For a given continuous function $g(t)$, is $f_{\\infty(t)}$ necessarily equal to $g(t)$ on the interval $t \\in \\left[0,2\\pi\\right]$? FOr what kind of $g(t)$ will we have $f_{\\infty}(t) = g(t), t \\in \\left[0,2\\pi\\right]$."
   ]
  },
  {
   "cell_type": "markdown",
   "metadata": {},
   "source": [
    "$\\underline{Solution}$   \n",
    "$\\textbf{a)}$ We are given:\n",
    "\\begin{equation*}\n",
    "A_n \\begin{bmatrix} c_n \\\\ p_n \\\\ q_n \\end{bmatrix} = \\overrightarrow{y}\n",
    "\\end{equation*}  \n",
    "For the the specific fitting outlined, we must structure $A$ in the following way:\n",
    "\\begin{equation*}\n",
    "A_n = \\begin{bmatrix} 1 & \\sin(a_0) & \\cos(a_0)\\\\\n",
    "1 & \\sin(a_1) & \\cos(a_1)\\\\\n",
    "\\vdots & \\vdots & \\vdots\\\\\n",
    "1 & \\sin(a_n) & \\cos(a_n)\n",
    "\\end{bmatrix} \\end{equation*}\n",
    "Then, to fit to the right set of points, we structure $y$ the following way: $$ \\overrightarrow{y} = \\begin{bmatrix} g(a_0) \\\\g(a_1)\\\\ \\vdots \\\\ g(a_n)\\end{bmatrix} $$\n",
    "$\\textbf{b)}$  Let us compute $A_n^TA_n$:\n",
    "$$\n",
    "A_n^TA_n = \\begin{bmatrix} 1 & 1 & ... & 1\\\\\n",
    "\\sin(a_0) & \\sin(a_1) & ... & \\sin(a_n)\\\\\n",
    "\\cos(a_0) & \\cos(a_1) & ... & \\cos(a_n)\n",
    "\\end{bmatrix} * \\begin{bmatrix} 1 & \\sin(a_0) & \\cos(a_0)\\\\\n",
    "1 & \\sin(a_1) & \\cos(a_1)\\\\\n",
    "\\vdots & \\vdots & \\vdots \\\\\n",
    "1 & \\sin(a_n) & \\cos(a_n)\\end{bmatrix}\\\\\n",
    "= \\begin{bmatrix} n & \\sum_{i = 0}^{n}\\sin(a_i) & \\sum_{i = 0}^{n}\\cos(a_i)\\\\\n",
    "\\sum_{i = 0}^{n}\\sin(a_i) & \\sum_{i = 0}^{n}\\sin^2(a_i) & \\sum_{i = 0}^{n}\\sin(a_i)\\cos(a_i)\\\\\n",
    "\\sum_{i = 0}^{n}\\cos(a_i) & \\sum_{i = 0}^{n}\\sin(a_i)\\cos(a_i) & \\sum_{i = 0}^{n}\\cos^2(a_i)\\end{bmatrix} $$\n",
    "Then, we multiply by a factor of $\\frac{2\\pi}{n}$:\n",
    "\\begin{equation*}\n",
    "\\frac{2\\pi}{n}A_n^TA_n = \\begin{bmatrix} 2\\pi & \\frac{2\\pi}{n}\\sum_{i = 0}^{n}\\sin(a_i) & \\frac{2\\pi}{n}\\sum_{i = 0}^{n}\\cos(a_i)\\\\\n",
    "\\frac{2\\pi}{n}\\sum_{i = 0}^{n}\\sin(a_i) & \\frac{2\\pi}{n}\\sum_{i = 0}^{n}\\sin^2(a_i) & \\frac{2\\pi}{n}\\sum_{i = 0}^{n}\\sin(a_i)\\cos(a_i)\\\\\n",
    "\\frac{2\\pi}{n}\\sum_{i = 0}^{n}\\cos(a_i) & \\frac{2\\pi}{n}\\sum_{i = 0}^{n}\\sin(a_i)\\cos(a_i) & \\frac{2\\pi}{n}\\sum_{i = 0}^{n}\\cos^2(a_i)\\end{bmatrix}\n",
    "\\end{equation*}\n",
    "To take the limit of each of these terms, we note that $\\lim 2\\pi = 2\\pi$ so we don't have to worry about that. Taking the rest of these as Riemann integrals, we calculate each individually:\n",
    "\\begin{align*}\n",
    "&\\int_{0}^{2\\pi}\\sin(a)da = -\\cos(a)|_{0}^{2\\pi} = 1 - 1 = 0\\\\\n",
    "&\\int_{0}^{2\\pi}\\cos(a)da = \\sin(a)|_0^{2\\pi} = 0 - 0 = 0\n",
    "\\end{align*}\n",
    "For the next integral, we will use integration by parts and the trigonometric identity that $\\sin^{2}(a) + \\cos^2(a) = 1$:\n",
    "\\begin{align*}\n",
    "&\\int_{0}^{2\\pi}\\sin^{2}(a)da = -\\sin(a)\\cos(a)|_{0}^{2\\pi} + \\int_{0}^{2\\pi}\\cos^2(a)da\\\\\n",
    "&\\rightarrow \\int_{0}^{2\\pi}\\sin^{2}(a)da = 0 + \\int_{0}^{2\\pi}(1 - \\sin^2(a))da\\\\\n",
    "&\\rightarrow \\int_{0}^{2\\pi}\\sin^{2}(a)da = \\int_{0}^{2\\pi}1da  - \\int_{0}^{2\\pi}\\sin^2(a)da\\\\\n",
    "&\\rightarrow 2\\int_{0}^{2\\pi}\\sin^{2}(a)da = 2\\pi\\\\\n",
    "&\\rightarrow \\int_{0}^{2\\pi}\\sin^{2}(a)da = \\pi\n",
    "\\end{align*}\n",
    "Using the trigonometric identity again:\n",
    "\\begin{align*}\n",
    "\\int_{0}^{2\\pi}\\cos^2(a)da = \\int_{0}^{2\\pi}(1 - \\sin^2(a))da &= \\int_{0}^{2\\pi}1da - \\int_{0}^{2\\pi}\\sin^2(a)\\\\\n",
    "&= 2\\pi - \\pi\\\\\n",
    "&= \\pi\n",
    "\\end{align*}\n",
    "For the final integral, we use u-substitution, where $u = \\sin(a)$:\n",
    "\\begin{equation*}\n",
    "\\int_{0}^{2\\pi}\\sin(a)\\cos(a)da = \\int_{0}^{0}udu = 0\n",
    "\\end{equation*}\n",
    "As a result:\n",
    "\\begin{equation*}\n",
    "\\lim_{n \\rightarrow \\infty} \\frac{2\\pi}{n}A_n^TA_n = \\begin{bmatrix}2\\pi & 0 & 0\\\\ 0 & \\pi & 0 \\\\ 0 & 0 & \\pi\\end{bmatrix}\n",
    "\\end{equation*}\n",
    "Next, we calculate $A_n^T\\overrightarrow{y}$:\n",
    "\\begin{equation*}\n",
    "\\begin{bmatrix} 1 & 1 & ... & 1\\\\\n",
    "\\sin(a_0) & \\sin(a_1) & ... & \\sin(a_n)\\\\\n",
    "\\cos(a_0) & \\cos(a_1) & ... & \\cos(a_n)\n",
    "\\end{bmatrix} * \\begin{bmatrix}g(a_0) \\\\g(a_1)\\\\\\vdots \\\\ g(a_n)\\end{bmatrix} = \\begin{bmatrix} \\sum_{i = 0}^{n}g(a_i) \\\\ \\sum_{i = 0}^{n}\\sin(a_i)g(a_i) \\\\ \\sum_{i = 0}^{n}\\cos(a_i)g(a_i)\\end{bmatrix}\n",
    "\\end{equation*}\n",
    "Then, multiplying by $\\frac{2\\pi}{n}$ to put it in the correct form and taking the limit to infinity, effectively creating a Riemann integral, we get:\n",
    "\\begin{equation*}\n",
    "\\lim_{n \\rightarrow \\infty}\\frac{2\\pi}{n}A_n^T\\overrightarrow{y} = \\begin{bmatrix}\\int_{0}^{2\\pi}g(a)da\\\\ \\int_{0}^{2\\pi}\\sin(a)g(a)da \\\\ \\int_{0}^{2\\pi}\\cos(a)g(a)da \\end{bmatrix}\n",
    "\\end{equation*}\n",
    "$\\textbf{c)}$ If we multiply both sides of the original linear system by $\\frac{2\\pi}{n}A_n^T$ and take the limit as $n \\rightarrow \\infty$, we get the new system:  \n",
    "$$ \\begin{equation*} \\begin{bmatrix} 2\\pi & 0 & 0\\\\ 0 & \\pi & 0 \\\\ 0 & 0 & \\pi\\end{bmatrix} * \\begin{bmatrix} c_{\\infty} \\\\ p_{\\infty} \\\\ q_{\\infty} \\end{bmatrix} = \\begin{bmatrix}\\int_{0}^{2\\pi}g(a)da\\\\ \\int_{0}^{2\\pi}\\sin(a)g(a)da \\\\ \\int_{0}^{2\\pi}\\cos(a)g(a)da \\end{bmatrix} \\end{equation*} $$\n",
    "A simple matrix multiplication and 1 step of algebra gets us our coefficients:\n",
    "$$\\begin{equation*}\n",
    "\\begin{bmatrix} c_{\\infty} \\\\ p_{\\infty} \\\\ q_{\\infty}\\end{bmatrix} = \\begin{bmatrix}\\frac{1}{2\\pi}\\int_{0}^{2\\pi}g(a)da\\\\ \\frac{1}{\\pi}\\int_{0}^{2\\pi}\\sin(a)g(a)da \\\\ \\frac{1}{\\pi} \\int_{0}^{2\\pi}\\cos(a)g(a)da \\end{bmatrix} \\end{equation*}$$\n",
    "$\\textbf{d)}$ No, it is not necessarily true that all functions will be fit perfectly to $g(t)$ by $f_{\\infty}(t)$. Some functions are not periodic, and therefore cannot be fit with periodic components and a constant term ($g(t) = t$ is an example). However, if the function was periodic, than you could find a perfect $f_{\\infty}(t) = g(t)$ fit, because you have oscillating periodic components."
   ]
  },
  {
   "cell_type": "markdown",
   "metadata": {},
   "source": [
    "#### $\\textbf{------------------------------------------------ End of Question 2 ------------------------------------------------}$"
   ]
  },
  {
   "cell_type": "markdown",
   "metadata": {},
   "source": [
    "3. The table below provides a training set containing six observations, 3 predictors, and one qualitative response variable.\n",
    "<p align = \"center\">\n",
    "<img src = \"Q3_trainingset.png\"\n",
    "     height = 200px\n",
    "     width = 400px>\n",
    "</p>\n",
    "\n",
    "Suppose we wish to use this data set to make a prediction for $Y$ when $X_1 = X_2 = X_3 = 0$ using $K$-nearest neighbors.  \n",
    "$\\textbf{a)}$ - Compute the Euclidean distance between each observation and the test point $X_1 = X_2 = X_3 = 0$.  \n",
    "$\\textbf{b)}$ - What is our prediction what $K = 1$? Why?  \n",
    "$\\textbf{c)}$ - What is our prediction what $K = 3$? Why?  \n",
    "$\\textbf{d)}$ - If the Bayes decision boundary in this problem is highly non-linear, then would we expect the $\\textit{best}$ value for $K$ to be large or small? Why? $\\left(\\text{Note: The Bayes Decision boundary is defined as follows - }\\max_j\\mathbb{P}(Y = j|X = x)\\right)$"
   ]
  },
  {
   "cell_type": "markdown",
   "metadata": {},
   "source": [
    "$\\underline{Solution}$  \n",
    "$\\textbf{a)}$ The test point is $X_1 = X_2 = X_3 = 0$. Now, we must compute the $\\ell_2$ norm of the difference to find euclidean distance. We calculate, in order of listed observation:\n",
    "\\begin{align*}\n",
    "& \\left|\\begin{pmatrix} 0 \\\\ 3 \\\\ 0\\end{pmatrix} - \\begin{pmatrix} 0 \\\\ 0 \\\\ 0 \\end{pmatrix}\\right|_2 = \\sqrt{(0 - 0)^2 + (3 - 0)^2 + (0 - 0)^2} = 3\\\\\n",
    "& \\left|\\begin{pmatrix} 2 \\\\ 0 \\\\ 0\\end{pmatrix} - \\begin{pmatrix} 0 \\\\ 0 \\\\ 0 \\end{pmatrix}\\right|_2 = \\sqrt{(2 - 0)^2 + (0 - 0)^2 + (0 - 0)^2} = 2\\\\\n",
    "&\\left|\\begin{pmatrix} 0 \\\\ 1 \\\\ 3\\end{pmatrix} - \\begin{pmatrix} 0 \\\\ 0 \\\\ 0 \\end{pmatrix}\\right|_2 = \\sqrt{(0 - 0)^2 + (1 - 0)^2 + (3 - 0)^2} = \\sqrt{10}\\\\\n",
    "&\\left|\\begin{pmatrix} 0 \\\\ 1 \\\\ 2\\end{pmatrix} - \\begin{pmatrix} 0 \\\\ 0 \\\\ 0 \\end{pmatrix}\\right|_2 = \\sqrt{(0 - 0)^2 + (1 - 0)^2 + (2 - 0)^2} = \\sqrt{5}\\\\\n",
    "&\\left|\\begin{pmatrix} -1 \\\\ 0 \\\\ 1\\end{pmatrix} - \\begin{pmatrix} 0 \\\\ 0 \\\\ 0 \\end{pmatrix}\\right|_2 = \\sqrt{(-1 - 0)^2 + (0 - 0)^2 + (1 - 0)^2} = \\sqrt{2}\\\\\n",
    "&\\left|\\begin{pmatrix} 1 \\\\ 1 \\\\ 1\\end{pmatrix} - \\begin{pmatrix} 0 \\\\ 0 \\\\ 0 \\end{pmatrix}\\right|_2 = \\sqrt{(1 - 0)^2 + (1 - 0)^2 + (1 - 0)^2} = \\sqrt{3}\n",
    "\\end{align*}\n",
    "$\\textbf{b)}$ The K-nearest neighbors classifier formula is as follows:\n",
    "\\begin{equation*}\n",
    "\\mathbb{P}(y = j|X = x_0) = \\frac{1}{K}\\sum_{i \\in N_0}1_j(Y_i = j)\n",
    "\\end{equation*}\n",
    "Here, $N_0$ is the set of $K$-nearest neighbors, and $1_{j}$ is the indicator function. When $K = 1$, we are only dealing with the nearest neighbor. As indicated by the Euclidean distances, the nearest neighbor to $X_1 = X_2 = X_3 = 0$ is observation $5$. Note that $Y_5 = \\text{green}$. Let us call our test point $y_t$. So:\n",
    "\\begin{equation*}\n",
    "\\mathbb{P}(y_t = \\text{green}|X_1 = X_2 = X_3 = 0) = 1\n",
    "\\end{equation*}\n",
    "Thus, our prediction is that the test point is $\\textbf{green}$, as this is higher than 0.5, which was the defined decision boundary.  \n",
    "$\\textbf{c)}$ Since $K = 3$, we must now find the 3 closest neighbors to $y_t$. By euclidean distance, these are Observation 5, Observation 6, and Observation 2. Observation 5, as previously stated, was observed green, but Observations 2 and 6 were observed red. Therefore:\n",
    "\\begin{equation*}\n",
    "\\mathbb{P}(y_t = red|X_0 = X_1 = X_2 = 0) = \\frac{2}{3} > 0.5\n",
    "\\end{equation*}\n",
    "Thus, our prediction is that the test point is $\\textbf{red}$.  \n",
    "$\\textbf{d)}$ For an extremely non-linear set, we would expect the best value of $K$, or the one closest to the bayes classifier, to be $\\textbf{small}$. This is because, due to the non-linearity, we need a flexible deicision boundary, which is achievable with smaller $K$ values."
   ]
  },
  {
   "cell_type": "markdown",
   "metadata": {},
   "source": [
    "#### $\\textbf{------------------------------------------------ End of Question 3 ------------------------------------------------}$"
   ]
  },
  {
   "cell_type": "code",
   "execution_count": 5,
   "metadata": {},
   "outputs": [],
   "source": [
    "import pandas as pd;\n",
    "import numpy as np;\n",
    "import math;\n",
    "import statsmodels.formula.api as sm\n",
    "import matplotlib.pyplot as plt"
   ]
  },
  {
   "cell_type": "markdown",
   "metadata": {},
   "source": []
  }
 ],
 "metadata": {
  "kernelspec": {
   "display_name": "base",
   "language": "python",
   "name": "python3"
  },
  "language_info": {
   "codemirror_mode": {
    "name": "ipython",
    "version": 3
   },
   "file_extension": ".py",
   "mimetype": "text/x-python",
   "name": "python",
   "nbconvert_exporter": "python",
   "pygments_lexer": "ipython3",
   "version": "3.11.5"
  },
  "orig_nbformat": 4
 },
 "nbformat": 4,
 "nbformat_minor": 2
}
