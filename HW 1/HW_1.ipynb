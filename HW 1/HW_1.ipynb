{
 "cells": [
  {
   "cell_type": "markdown",
   "metadata": {},
   "source": [
    "# Homework 1"
   ]
  },
  {
   "cell_type": "markdown",
   "metadata": {},
   "source": [
    "## Theoretical Problems"
   ]
  },
  {
   "cell_type": "markdown",
   "metadata": {},
   "source": [
    "1. Find the least-squares solution $\\overrightarrow{x}$<sup>\\* </sup> of the linear system $$A\\overrightarrow{x} = \\overrightarrow{b}$$ where $$A = \\begin{pmatrix} 1 & 1 \\\\ 1 & 2 \\\\ 1 & 3\\end{pmatrix} \\text{ and } \\overrightarrow{b} = \\begin{pmatrix} 0 \\\\ 0\\\\ 6\\end{pmatrix}$$ What is a geometric relationship between $A\\overrightarrow{x}$<sup>\\*</sup> and $\\overrightarrow{b}$? Draw a picture to illustrate this."
   ]
  },
  {
   "cell_type": "markdown",
   "metadata": {},
   "source": [
    "$\\underline{Solution}$    \n",
    "\n",
    "Using row reduction, we can see that: $$ \\left(\\begin{array}{cc|c}\n",
    "1 & 1 & 0\\\\\n",
    "1 & 2 & 0\\\\\n",
    "1 & 3 & 6\n",
    "\\end{array}\\right) \\xrightarrow[R_2 = R_2 - R_1]{R_3 = R_3 - R_1} \\left(\\begin{array}{cc|c}\n",
    "1 & 1 & 0\\\\\n",
    "0 & 1 & 0\\\\\n",
    "0 & 2 & 6\n",
    "\\end{array}\\right) $$ Note here that $x_2 = 0$ from row 2 but $2x_2 = 6 \\rightarrow x_2 = 3$ from row 3, making a perfect solution impossible. So, we will solve this system by solving the normal equation $A^Tb = A^TAx$<sup>\\*</sup>$\\rightarrow x$<sup>\\*</sup>$= \\left(A^TA\\right)^{-1}A^Tb$.\n",
    "First, we compute $(A^TA)^{-1}$: $$ \\left(\\begin{pmatrix} 1 & 1 & 1 \\\\ 1 & 2 & 3\\end{pmatrix} \\ast \\begin{pmatrix} 1 & 1 \\\\ 1 & 2 \\\\ 1 & 3 \\end{pmatrix}\\right)^{-1} = \\left( \\begin{pmatrix} 3 & 6 \\\\ 6 & 14\\end{pmatrix}\\right)^{-1}$$\n",
    "Note that the determinant of this matrix is $\\det(A^{T}A) = 3(14) - 6(6) = 6$. So we find the inverse: $$(A^TA)^{-1} = \\frac{1}{6}\\begin{pmatrix} 14 & -6 \\\\ -6 & 3\\end{pmatrix} = \\begin{pmatrix} \\frac{7}{3} & -1 \\\\ -1 & \\frac{1}{2}\\end{pmatrix}$$\n",
    "Then, we multiply $A^Tb$:\n",
    "$$\\begin{pmatrix} 1 & 1 & 1 \\\\ 1 & 2 & 3\\end{pmatrix} \\ast \\begin{pmatrix} 0 \\\\ 0 \\\\ 6 \\end{pmatrix} = \\begin{pmatrix} 6 \\\\ 18\\end{pmatrix}$$\n",
    "Then, we multiply $(A^TA)^{-1}A^Tb$:\n",
    "$$x^{\\ast} = (A^TA)^{-1}A^Tb = \\begin{pmatrix} \\frac{7}{3} & -1 \\\\ -1 & \\frac{1}{2}\\end{pmatrix} \\ast \\begin{pmatrix} 6 \\\\ 18 \\end{pmatrix} = \\begin{pmatrix} -4 \\\\ 3 \\end{pmatrix}$$\n",
    "Note that:\n",
    "$$Ax^\\ast = \\begin{pmatrix} 1 & 1 \\\\ 1 & 2 \\\\ 1 & 3 \\end{pmatrix} \\ast \\begin{pmatrix} -4 \\\\ 3 \\end{pmatrix} = \\begin{pmatrix} -1 \\\\ 2 \\\\ 5\\end{pmatrix}$$\n",
    "Graphing both $A$, and $b$ in Geogebra:  \n",
    "<p align = \"center\">\n",
    "<img src = \"HW 1 - Picture (Geogebra).png\"\n",
    "     height = 400px\n",
    "     width = 800px>\n",
    "</p>\n",
    "\n",
    "Here, $A$ is the plane of the two columns going through the origin point. Note that the intersection point of the perpendicular line to $b$ and the plane is $(-1,2,5)$, which is exactly $Ax^\\ast$. Thus, $Ax^\\ast$ is the $\\textbf{orthogonal projection}$ of $b$ onto the plane created by the columns of $A$ going through the origin."
   ]
  },
  {
   "cell_type": "markdown",
   "metadata": {},
   "source": [
    "#### $\\textbf{------------------------------------------------ End of Question 1 ------------------------------------------------}$"
   ]
  },
  {
   "cell_type": "markdown",
   "metadata": {},
   "source": [
    "2. Suppose you wish to a fit a function of the form:\n",
    "$$f(t) = c + p\\sin(t) + q\\cos(t)$$\n",
    "to a given continuous function $g(t)$ on the closed interval from $0$ to $2\\pi$. One approach is to first choose $n + 1$ equally spaced points $a_i$, $i = 0,1,...,n$ bewtween $0$ and $2\\pi$ ($a_i = i\\frac{2\\pi}{n}$, say). We can that fit a function $$f_n(t) = c_n + p_n\\sin(t) + q_n\\cos(t)$$ to the data points $(a_i, g(a_i))$ for $i = 0,...,n$. In this problem, we will examine what happens to the coefficients $c_n, p_n, q_n$ of $f_n(t)$ as $n \\rightarrow +\\infty$.  \n",
    "$\\textbf{a)}$ - For a fixed $n$, write down the linear system for this fitting where $$A_n\\begin{bmatrix}c_n \\\\ p_n \\\\ q_n\\end{bmatrix} = \\overrightarrow{y}$$ where $A_n$ is an $(n + 1) \\times 3$ matrix, and $\\bar{y}$ is a vector of length $n + 1$.  \n",
    "$\\textbf{b)}$ - Find $$\\lim_{n \\rightarrow \\infty}\\frac{2\\pi}{n}A^T_{n}A_n \\text{ and } \\lim_{n \\rightarrow \\infty}\\frac{2\\pi}{n}A^T_{n}\\overrightarrow{y}$$\n",
    "$\\textbf{c)}$ - Find $$\\begin{bmatrix}c_\\infty \\\\ p_\\infty \\\\ q_\\infty\\end{bmatrix} = \\lim_{n \\rightarrow \\infty}\\begin{bmatrix}c_n \\\\ p_n \\\\ q_n\\end{bmatrix}$$ The resulting vector $\\begin{bmatrix}c_\\infty \\\\ p_\\infty \\\\ q_\\infty\\end{bmatrix}$ gives the fitting function $$f_\\infty(t) = c_\\infty + p_{\\infty}\\sin(t) + q_{\\infty}\\cos(t)$$\n",
    "$\\textbf{d)}$ - For a given continuous function $g(t)$, is $f_{\\infty(t)}$ necessarily equal to $g(t)$ on the interval $t \\in \\left[0,2\\pi\\right]$? FOr what kind of $g(t)$ will we have $f_{\\infty}(t) = g(t), t \\in \\left[0,2\\pi\\right]$."
   ]
  },
  {
   "cell_type": "markdown",
   "metadata": {},
   "source": [
    "$\\underline{Solution}$   \n",
    "$\\textbf{a)}$  \n",
    "$\\textbf{b)}$  \n",
    "$\\textbf{c)}$  \n",
    "$\\textbf{d)}$"
   ]
  },
  {
   "cell_type": "markdown",
   "metadata": {},
   "source": [
    "3. The table below provides a training set containing six observations, 3 predictors, and one qualitative response variable.\n",
    "<p align = \"center\">\n",
    "<img src = \"Q3_trainingset.png\"\n",
    "     height = 200px\n",
    "     width = 400px>\n",
    "</p>"
   ]
  },
  {
   "cell_type": "code",
   "execution_count": 5,
   "metadata": {},
   "outputs": [],
   "source": [
    "import pandas as pd;\n",
    "import numpy as np;\n",
    "import math;\n",
    "import statsmodels.formula.api as sm\n",
    "import matplotlib.pyplot as plt"
   ]
  },
  {
   "cell_type": "markdown",
   "metadata": {},
   "source": []
  }
 ],
 "metadata": {
  "kernelspec": {
   "display_name": "base",
   "language": "python",
   "name": "python3"
  },
  "language_info": {
   "codemirror_mode": {
    "name": "ipython",
    "version": 3
   },
   "file_extension": ".py",
   "mimetype": "text/x-python",
   "name": "python",
   "nbconvert_exporter": "python",
   "pygments_lexer": "ipython3",
   "version": "3.11.5"
  },
  "orig_nbformat": 4
 },
 "nbformat": 4,
 "nbformat_minor": 2
}
