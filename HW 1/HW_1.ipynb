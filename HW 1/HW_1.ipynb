{
 "cells": [
  {
   "cell_type": "markdown",
   "metadata": {},
   "source": [
    "# Homework 1"
   ]
  },
  {
   "cell_type": "markdown",
   "metadata": {},
   "source": [
    "## Theoretical Problems"
   ]
  },
  {
   "cell_type": "markdown",
   "metadata": {},
   "source": [
    "1. Find the least-squares solution $\\overrightarrow{x}$<sup>\\* </sup> of the linear system $$A\\overrightarrow{x} = \\overrightarrow{b}$$ where $$A = \\begin{pmatrix} 1 & 1 \\\\ 1 & 2 \\\\ 1 & 3\\end{pmatrix} \\text{ and } \\overrightarrow{b} = \\begin{pmatrix} 0 \\\\ 0\\\\ 6\\end{pmatrix}$$ What is a geometric relationship between $A\\overrightarrow{x}$<sup>\\*</sup> and $\\overrightarrow{b}$? Draw a picture to illustrate this."
   ]
  },
  {
   "cell_type": "markdown",
   "metadata": {},
   "source": [
    "$\\underline{Solution}$    \n",
    "\n",
    "Using row reduction, we can see that: $$ \\left(\\begin{array}{cc|c}\n",
    "1 & 1 & 0\\\\\n",
    "1 & 2 & 0\\\\\n",
    "1 & 3 & 6\n",
    "\\end{array}\\right) \\xrightarrow[R_2 = R_2 - R_1]{R_3 = R_3 - R_1} \\left(\\begin{array}{cc|c}\n",
    "1 & 1 & 0\\\\\n",
    "0 & 1 & 0\\\\\n",
    "0 & 2 & 6\n",
    "\\end{array}\\right) $$ Note here that $x_2 = 0$ from row 2 but $2x_2 = 6 \\rightarrow x_2 = 3$ from row 3, making a perfect solution impossible. So, we will solve this system by solving the normal equation $A^Tb = A^TAx$<sup>\\*</sup>$\\rightarrow x$<sup>\\*</sup>$= \\left(A^TA\\right)^{-1}A^Tb$.\n",
    "First, we compute $(A^TA)^{-1}$: $$ \\left(\\begin{pmatrix} 1 & 1 & 1 \\\\ 1 & 2 & 3\\end{pmatrix} \\ast \\begin{pmatrix} 1 & 1 \\\\ 1 & 2 \\\\ 1 & 3 \\end{pmatrix}\\right)^{-1} = \\left( \\begin{pmatrix} 3 & 6 \\\\ 6 & 14\\end{pmatrix}\\right)^{-1}$$\n",
    "Note that the determinant of this matrix is $\\det(A^{T}A) = 3(14) - 6(6) = 6$. So we find the inverse: $$(A^TA)^{-1} = \\frac{1}{6}\\begin{pmatrix} 14 & -6 \\\\ -6 & 3\\end{pmatrix} = \\begin{pmatrix} \\frac{7}{3} & -1 \\\\ -1 & \\frac{1}{2}\\end{pmatrix}$$\n",
    "Then, we multiply $A^Tb$:\n",
    "$$\\begin{pmatrix} 1 & 1 & 1 \\\\ 1 & 2 & 3\\end{pmatrix} \\ast \\begin{pmatrix} 0 \\\\ 0 \\\\ 6 \\end{pmatrix} = \\begin{pmatrix} 6 \\\\ 18\\end{pmatrix}$$\n",
    "Then, we multiply $(A^TA)^{-1}A^Tb$:\n",
    "$$x^{\\ast} = (A^TA)^{-1}A^Tb = \\begin{pmatrix} \\frac{7}{3} & -1 \\\\ -1 & \\frac{1}{2}\\end{pmatrix} \\ast \\begin{pmatrix} 6 \\\\ 18 \\end{pmatrix} = \\begin{pmatrix} -4 \\\\ 3 \\end{pmatrix}$$\n",
    "Note that:\n",
    "$$Ax^\\ast = \\begin{pmatrix} 1 & 1 \\\\ 1 & 2 \\\\ 1 & 3 \\end{pmatrix} \\ast \\begin{pmatrix} -4 \\\\ 3 \\end{pmatrix} = \\begin{pmatrix} -1 \\\\ 2 \\\\ 5\\end{pmatrix}$$\n",
    "Graphing both $A$, and $b$ in Geogebra:  \n",
    "<p align = \"center\">\n",
    "<img src = \"HW 1 - Picture (Geogebra).png\"\n",
    "     height = 400px\n",
    "     width = 800px>\n",
    "</p>\n",
    "\n",
    "Here, $A$ is the plane of the two columns going through the origin point. Note that the intersection point of the perpendicular line to $b$ and the plane is $(-1,2,5)$, which is exactly $Ax^\\ast$. Thus, $Ax^\\ast$ is the $\\textbf{orthogonal projection}$ of $b$ onto the plane created by the columns of $A$ going through the origin."
   ]
  },
  {
   "cell_type": "markdown",
   "metadata": {},
   "source": [
    "#### $\\textbf{------------------------------------------------ End of Question 1 ------------------------------------------------}$"
   ]
  },
  {
   "cell_type": "markdown",
   "metadata": {},
   "source": [
    "2. Suppose you wish to a fit a function of the form:\n",
    "$$f(t) = c + p\\sin(t) + q\\cos(t)$$\n",
    "to a given continuous function $g(t)$ on the closed interval from $0$ to $2\\pi$. One approach is to first choose $n + 1$ equally spaced points $a_i$, $i = 0,1,...,n$ bewtween $0$ and $2\\pi$ ($a_i = i\\frac{2\\pi}{n}$, say). We can that fit a function $$f_n(t) = c_n + p_n\\sin(t) + q_n\\cos(t)$$ to the data points $(a_i, g(a_i))$ for $i = 0,...,n$. In this problem, we will examine what happens to the coefficients $c_n, p_n, q_n$ of $f_n(t)$ as $n \\rightarrow +\\infty$.  \n",
    "$\\textbf{a)}$ - For a fixed $n$, write down the linear system for this fitting where $$A_n\\begin{bmatrix}c_n \\\\ p_n \\\\ q_n\\end{bmatrix} = \\overrightarrow{y}$$ where $A_n$ is an $(n + 1) \\times 3$ matrix, and $\\bar{y}$ is a vector of length $n + 1$.  \n",
    "$\\textbf{b)}$ - Find $$\\lim_{n \\rightarrow \\infty}\\frac{2\\pi}{n}A^T_{n}A_n \\text{ and } \\lim_{n \\rightarrow \\infty}\\frac{2\\pi}{n}A^T_{n}\\overrightarrow{y}$$\n",
    "$\\textbf{c)}$ - Find $$\\begin{bmatrix}c_\\infty \\\\ p_\\infty \\\\ q_\\infty\\end{bmatrix} = \\lim_{n \\rightarrow \\infty}\\begin{bmatrix}c_n \\\\ p_n \\\\ q_n\\end{bmatrix}$$ The resulting vector $\\begin{bmatrix}c_\\infty \\\\ p_\\infty \\\\ q_\\infty\\end{bmatrix}$ gives the fitting function $$f_\\infty(t) = c_\\infty + p_{\\infty}\\sin(t) + q_{\\infty}\\cos(t)$$\n",
    "$\\textbf{d)}$ - For a given continuous function $g(t)$, is $f_{\\infty(t)}$ necessarily equal to $g(t)$ on the interval $t \\in \\left[0,2\\pi\\right]$? FOr what kind of $g(t)$ will we have $f_{\\infty}(t) = g(t), t \\in \\left[0,2\\pi\\right]$."
   ]
  },
  {
   "cell_type": "markdown",
   "metadata": {},
   "source": [
    "$\\underline{Solution}$   \n",
    "$\\textbf{a)}$ We are given:\n",
    "\\begin{equation*}\n",
    "A_n \\begin{bmatrix} c_n \\\\ p_n \\\\ q_n \\end{bmatrix} = \\overrightarrow{y}\n",
    "\\end{equation*}  \n",
    "For the the specific fitting outlined, we must structure $A$ in the following way:\n",
    "\\begin{equation*}\n",
    "A_n = \\begin{bmatrix} 1 & \\sin(a_0) & \\cos(a_0)\\\\\n",
    "1 & \\sin(a_1) & \\cos(a_1)\\\\\n",
    "\\vdots & \\vdots & \\vdots\\\\\n",
    "1 & \\sin(a_n) & \\cos(a_n)\n",
    "\\end{bmatrix} \\end{equation*}\n",
    "Then, to fit to the right set of points, we structure $y$ the following way: $$ \\overrightarrow{y} = \\begin{bmatrix} g(a_0) \\\\g(a_1)\\\\ \\vdots \\\\ g(a_n)\\end{bmatrix} $$\n",
    "$\\textbf{b)}$  Let us compute $A_n^TA_n$:\n",
    "$$\n",
    "A_n^TA_n = \\begin{bmatrix} 1 & 1 & ... & 1\\\\\n",
    "\\sin(a_0) & \\sin(a_1) & ... & \\sin(a_n)\\\\\n",
    "\\cos(a_0) & \\cos(a_1) & ... & \\cos(a_n)\n",
    "\\end{bmatrix} * \\begin{bmatrix} 1 & \\sin(a_0) & \\cos(a_0)\\\\\n",
    "1 & \\sin(a_1) & \\cos(a_1)\\\\\n",
    "\\vdots & \\vdots & \\vdots \\\\\n",
    "1 & \\sin(a_n) & \\cos(a_n)\\end{bmatrix}\\\\\n",
    "= \\begin{bmatrix} n & \\sum_{i = 0}^{n}\\sin(a_i) & \\sum_{i = 0}^{n}\\cos(a_i)\\\\\n",
    "\\sum_{i = 0}^{n}\\sin(a_i) & \\sum_{i = 0}^{n}\\sin^2(a_i) & \\sum_{i = 0}^{n}\\sin(a_i)\\cos(a_i)\\\\\n",
    "\\sum_{i = 0}^{n}\\cos(a_i) & \\sum_{i = 0}^{n}\\sin(a_i)\\cos(a_i) & \\sum_{i = 0}^{n}\\cos^2(a_i)\\end{bmatrix} $$\n",
    "Then, we multiply by a factor of $\\frac{2\\pi}{n}$:\n",
    "\\begin{equation*}\n",
    "\\frac{2\\pi}{n}A_n^TA_n = \\begin{bmatrix} 2\\pi & \\frac{2\\pi}{n}\\sum_{i = 0}^{n}\\sin(a_i) & \\frac{2\\pi}{n}\\sum_{i = 0}^{n}\\cos(a_i)\\\\\n",
    "\\frac{2\\pi}{n}\\sum_{i = 0}^{n}\\sin(a_i) & \\frac{2\\pi}{n}\\sum_{i = 0}^{n}\\sin^2(a_i) & \\frac{2\\pi}{n}\\sum_{i = 0}^{n}\\sin(a_i)\\cos(a_i)\\\\\n",
    "\\frac{2\\pi}{n}\\sum_{i = 0}^{n}\\cos(a_i) & \\frac{2\\pi}{n}\\sum_{i = 0}^{n}\\sin(a_i)\\cos(a_i) & \\frac{2\\pi}{n}\\sum_{i = 0}^{n}\\cos^2(a_i)\\end{bmatrix}\n",
    "\\end{equation*}\n",
    "To take the limit of each of these terms, we note that $\\lim 2\\pi = 2\\pi$ so we don't have to worry about that. Taking the rest of these as Riemann integrals, we calculate each individually:\n",
    "\\begin{align*}\n",
    "&\\int_{0}^{2\\pi}\\sin(a)da = -\\cos(a)|_{0}^{2\\pi} = 1 - 1 = 0\\\\\n",
    "&\\int_{0}^{2\\pi}\\cos(a)da = \\sin(a)|_0^{2\\pi} = 0 - 0 = 0\n",
    "\\end{align*}\n",
    "For the next integral, we will use integration by parts and the trigonometric identity that $\\sin^{2}(a) + \\cos^2(a) = 1$:\n",
    "\\begin{align*}\n",
    "&\\int_{0}^{2\\pi}\\sin^{2}(a)da = -\\sin(a)\\cos(a)|_{0}^{2\\pi} + \\int_{0}^{2\\pi}\\cos^2(a)da\\\\\n",
    "&\\rightarrow \\int_{0}^{2\\pi}\\sin^{2}(a)da = 0 + \\int_{0}^{2\\pi}(1 - \\sin^2(a))da\\\\\n",
    "&\\rightarrow \\int_{0}^{2\\pi}\\sin^{2}(a)da = \\int_{0}^{2\\pi}1da  - \\int_{0}^{2\\pi}\\sin^2(a)da\\\\\n",
    "&\\rightarrow 2\\int_{0}^{2\\pi}\\sin^{2}(a)da = 2\\pi\\\\\n",
    "&\\rightarrow \\int_{0}^{2\\pi}\\sin^{2}(a)da = \\pi\n",
    "\\end{align*}\n",
    "Using the trigonometric identity again:\n",
    "\\begin{align*}\n",
    "\\int_{0}^{2\\pi}\\cos^2(a)da = \\int_{0}^{2\\pi}(1 - \\sin^2(a))da &= \\int_{0}^{2\\pi}1da - \\int_{0}^{2\\pi}\\sin^2(a)\\\\\n",
    "&= 2\\pi - \\pi\\\\\n",
    "&= \\pi\n",
    "\\end{align*}\n",
    "For the final integral, we use u-substitution, where $u = \\sin(a)$:\n",
    "\\begin{equation*}\n",
    "\\int_{0}^{2\\pi}\\sin(a)\\cos(a)da = \\int_{0}^{0}udu = 0\n",
    "\\end{equation*}\n",
    "As a result:\n",
    "\\begin{equation*}\n",
    "\\lim_{n \\rightarrow \\infty} \\frac{2\\pi}{n}A_n^TA_n = \\begin{bmatrix}2\\pi & 0 & 0\\\\ 0 & \\pi & 0 \\\\ 0 & 0 & \\pi\\end{bmatrix}\n",
    "\\end{equation*}\n",
    "Next, we calculate $A_n^T\\overrightarrow{y}$:\n",
    "\\begin{equation*}\n",
    "\\begin{bmatrix} 1 & 1 & ... & 1\\\\\n",
    "\\sin(a_0) & \\sin(a_1) & ... & \\sin(a_n)\\\\\n",
    "\\cos(a_0) & \\cos(a_1) & ... & \\cos(a_n)\n",
    "\\end{bmatrix} * \\begin{bmatrix}g(a_0) \\\\g(a_1)\\\\\\vdots \\\\ g(a_n)\\end{bmatrix} = \\begin{bmatrix} \\sum_{i = 0}^{n}g(a_i) \\\\ \\sum_{i = 0}^{n}\\sin(a_i)g(a_i) \\\\ \\sum_{i = 0}^{n}\\cos(a_i)g(a_i)\\end{bmatrix}\n",
    "\\end{equation*}\n",
    "Then, multiplying by $\\frac{2\\pi}{n}$ to put it in the correct form and taking the limit to infinity, effectively creating a Riemann integral, we get:\n",
    "\\begin{equation*}\n",
    "\\lim_{n \\rightarrow \\infty}\\frac{2\\pi}{n}A_n^T\\overrightarrow{y} = \\begin{bmatrix}\\int_{0}^{2\\pi}g(a)da\\\\ \\int_{0}^{2\\pi}\\sin(a)g(a)da \\\\ \\int_{0}^{2\\pi}\\cos(a)g(a)da \\end{bmatrix}\n",
    "\\end{equation*}\n",
    "$\\textbf{c)}$ If we multiply both sides of the original linear system by $\\frac{2\\pi}{n}A_n^T$ and take the limit as $n \\rightarrow \\infty$, we get the new system:  \n",
    "$$ \\begin{equation*} \\begin{bmatrix} 2\\pi & 0 & 0\\\\ 0 & \\pi & 0 \\\\ 0 & 0 & \\pi\\end{bmatrix} * \\begin{bmatrix} c_{\\infty} \\\\ p_{\\infty} \\\\ q_{\\infty} \\end{bmatrix} = \\begin{bmatrix}\\int_{0}^{2\\pi}g(a)da\\\\ \\int_{0}^{2\\pi}\\sin(a)g(a)da \\\\ \\int_{0}^{2\\pi}\\cos(a)g(a)da \\end{bmatrix} \\end{equation*} $$\n",
    "A simple matrix multiplication and 1 step of algebra gets us our coefficients:\n",
    "$$\\begin{equation*}\n",
    "\\begin{bmatrix} c_{\\infty} \\\\ p_{\\infty} \\\\ q_{\\infty}\\end{bmatrix} = \\begin{bmatrix}\\frac{1}{2\\pi}\\int_{0}^{2\\pi}g(a)da\\\\ \\frac{1}{\\pi}\\int_{0}^{2\\pi}\\sin(a)g(a)da \\\\ \\frac{1}{\\pi} \\int_{0}^{2\\pi}\\cos(a)g(a)da \\end{bmatrix} \\end{equation*}$$\n",
    "$\\textbf{d)}$ No, it is not necessarily true that all functions will be fit perfectly to $g(t)$ by $f_{\\infty}(t)$. Some functions are not periodic, and therefore cannot be fit with periodic components and a constant term ($g(t) = t$ is an example). However, if the function was periodic, than you could find a perfect $f_{\\infty}(t) = g(t)$ fit, because you have oscillating periodic components."
   ]
  },
  {
   "cell_type": "markdown",
   "metadata": {},
   "source": [
    "#### $\\textbf{------------------------------------------------ End of Question 2 ------------------------------------------------}$"
   ]
  },
  {
   "cell_type": "markdown",
   "metadata": {},
   "source": [
    "3. $(\\text{from }\\textit{An Introduction to Statistical Learning with Applications in R}\\text{, 2.4 Exercise 7})$ The table below provides a training set containing six observations, 3 predictors, and one qualitative response variable.\n",
    "<p align = \"center\">\n",
    "<img src = \"Q3_trainingset.png\"\n",
    "     height = 200px\n",
    "     width = 400px>\n",
    "</p>\n",
    "\n",
    "Suppose we wish to use this data set to make a prediction for $Y$ when $X_1 = X_2 = X_3 = 0$ using $K$-nearest neighbors.  \n",
    "$\\textbf{a)}$ - Compute the Euclidean distance between each observation and the test point $X_1 = X_2 = X_3 = 0$.  \n",
    "$\\textbf{b)}$ - What is our prediction what $K = 1$? Why?  \n",
    "$\\textbf{c)}$ - What is our prediction what $K = 3$? Why?  \n",
    "$\\textbf{d)}$ - If the Bayes decision boundary in this problem is highly non-linear, then would we expect the $\\textit{best}$ value for $K$ to be large or small? Why? $\\left(\\text{Note: The Bayes Decision boundary is defined as follows - }\\max_j\\mathbb{P}(Y = j|X = x)\\right)$"
   ]
  },
  {
   "cell_type": "markdown",
   "metadata": {},
   "source": [
    "$\\underline{Solution}$  \n",
    "$\\textbf{a)}$ The test point is $X_1 = X_2 = X_3 = 0$. Now, we must compute the $\\ell_2$ norm of the difference to find euclidean distance. We calculate, in order of listed observation:\n",
    "\\begin{align*}\n",
    "& \\left|\\begin{pmatrix} 0 \\\\ 3 \\\\ 0\\end{pmatrix} - \\begin{pmatrix} 0 \\\\ 0 \\\\ 0 \\end{pmatrix}\\right|_2 = \\sqrt{(0 - 0)^2 + (3 - 0)^2 + (0 - 0)^2} = 3\\\\\n",
    "& \\left|\\begin{pmatrix} 2 \\\\ 0 \\\\ 0\\end{pmatrix} - \\begin{pmatrix} 0 \\\\ 0 \\\\ 0 \\end{pmatrix}\\right|_2 = \\sqrt{(2 - 0)^2 + (0 - 0)^2 + (0 - 0)^2} = 2\\\\\n",
    "&\\left|\\begin{pmatrix} 0 \\\\ 1 \\\\ 3\\end{pmatrix} - \\begin{pmatrix} 0 \\\\ 0 \\\\ 0 \\end{pmatrix}\\right|_2 = \\sqrt{(0 - 0)^2 + (1 - 0)^2 + (3 - 0)^2} = \\sqrt{10}\\\\\n",
    "&\\left|\\begin{pmatrix} 0 \\\\ 1 \\\\ 2\\end{pmatrix} - \\begin{pmatrix} 0 \\\\ 0 \\\\ 0 \\end{pmatrix}\\right|_2 = \\sqrt{(0 - 0)^2 + (1 - 0)^2 + (2 - 0)^2} = \\sqrt{5}\\\\\n",
    "&\\left|\\begin{pmatrix} -1 \\\\ 0 \\\\ 1\\end{pmatrix} - \\begin{pmatrix} 0 \\\\ 0 \\\\ 0 \\end{pmatrix}\\right|_2 = \\sqrt{(-1 - 0)^2 + (0 - 0)^2 + (1 - 0)^2} = \\sqrt{2}\\\\\n",
    "&\\left|\\begin{pmatrix} 1 \\\\ 1 \\\\ 1\\end{pmatrix} - \\begin{pmatrix} 0 \\\\ 0 \\\\ 0 \\end{pmatrix}\\right|_2 = \\sqrt{(1 - 0)^2 + (1 - 0)^2 + (1 - 0)^2} = \\sqrt{3}\n",
    "\\end{align*}\n",
    "$\\textbf{b)}$ The K-nearest neighbors classifier formula is as follows:\n",
    "\\begin{equation*}\n",
    "\\mathbb{P}(y = j|X = x_0) = \\frac{1}{K}\\sum_{i \\in N_0}1_j(Y_i = j)\n",
    "\\end{equation*}\n",
    "Here, $N_0$ is the set of $K$-nearest neighbors, and $1_{j}$ is the indicator function. When $K = 1$, we are only dealing with the nearest neighbor. As indicated by the Euclidean distances, the nearest neighbor to $X_1 = X_2 = X_3 = 0$ is observation $5$. Note that $Y_5 = \\text{green}$. Let us call our test point $y_t$. So:\n",
    "\\begin{equation*}\n",
    "\\mathbb{P}(y_t = \\text{green}|X_1 = X_2 = X_3 = 0) = 1\n",
    "\\end{equation*}\n",
    "Thus, our prediction is that the test point is $\\textbf{green}$, as this is higher than 0.5, which was the defined decision boundary.  \n",
    "$\\textbf{c)}$ Since $K = 3$, we must now find the 3 closest neighbors to $y_t$. By euclidean distance, these are Observation 5, Observation 6, and Observation 2. Observation 5, as previously stated, was observed green, but Observations 2 and 6 were observed red. Therefore:\n",
    "\\begin{equation*}\n",
    "\\mathbb{P}(y_t = red|X_0 = X_1 = X_2 = 0) = \\frac{2}{3} > 0.5\n",
    "\\end{equation*}\n",
    "Thus, our prediction is that the test point is $\\textbf{red}$.  \n",
    "$\\textbf{d)}$ For an extremely non-linear set, we would expect the best value of $K$, or the one closest to the bayes classifier, to be $\\textbf{small}$. This is because, due to the non-linearity, we need a flexible deicision boundary, which is achievable with smaller $K$ values."
   ]
  },
  {
   "cell_type": "markdown",
   "metadata": {},
   "source": [
    "#### $\\textbf{------------------------------------------------ End of Question 3 ------------------------------------------------}$"
   ]
  },
  {
   "cell_type": "markdown",
   "metadata": {},
   "source": [
    "4. $(\\text{from }\\textit{An Introduction to Statistical Learning with Applications in R}\\text{, 3.7 Exercise 3})$ Suppose we have a data set with five predictors, $X_1 = \\text{GPA}, X_2 = \\text{IQ}, X_3 = \\text{Level(1 for College and 0 for High School)}, X_4 = \\text{Interaction between GPA and IQ}, X_5 = \\text{Interaction between GPA and Level}$. The response is starting salary after graduation (in thousands of dollars). Suppose we use least squares to fit the model, and get $\\hat{\\beta}_0 = 50, \\hat{\\beta}_1 = 20, \\hat{\\beta}_2 = 0.07, \\hat{\\beta}_3 = 35, \\hat{\\beta}_4 = 0.01, \\hat{\\beta}_5 = -10.\\\\$\n",
    "$\\textbf{a)}$ - Which answer is correct, and why?  \n",
    "&nbsp;&nbsp;&nbsp;&nbsp;&nbsp;&nbsp;i) For a fixed value of IQ and GPA, high school graduates earn more, on average, than college graduates.  \n",
    "&nbsp;&nbsp;&nbsp;&nbsp;&nbsp;&nbsp;ii) For a fixed value of IQ and GPA, college graduates earn more, on average, than high school graduates.  \n",
    "&nbsp;&nbsp;&nbsp;&nbsp;&nbsp;&nbsp;iii) For a fixed value of IQ and GPA, high school graduates earn more, on average, than college graduates provided that the GPA is high enough.  \n",
    "&nbsp;&nbsp;&nbsp;&nbsp;&nbsp;&nbsp;iv) For a fixed value of IQ and GPA, college graduates earn more, on average, than high school graduates provided that the GPA is high school.  \n",
    "$\\textbf{b)}$ - Predict the salary of a college graduate with IQ of 110 and a GPA of 4.0.  \n",
    "$\\textbf{c)}$ - True or false: Since the coefficient for the GPA/IQ interaction term is very small, there is very little evidence of an interaction effect. Justify your answer."
   ]
  },
  {
   "cell_type": "markdown",
   "metadata": {},
   "source": [
    "$\\underline{Solution}$  \n",
    "$\\textbf{a)}$ $\\textbf{iv)}$ is correct. Note that the equation is:\n",
    "\\begin{equation*}\n",
    "\\widehat{salary}_i = 50 + 20{GPA}_{i} + .07{IQ}_i + 35{Level}_{i} +.01(GPA_{i} * IQ_i) -10({GPA}_{i} * {Level}_i)\n",
    "\\end{equation*}\n",
    "To find the marginal effect of $Level$ on the salary, we take the derivative with respect to level to get:\n",
    "\\begin{equation*}\n",
    "\\frac{d\\widehat{salary}_i}{d({Level}_i)} = 35 - 10(GPA_{i})\n",
    "\\end{equation*}\n",
    "Note that, for $GPA > 3.5$, this marginal effect is positive, meaning that, for college students with high enough GPA, graduating college (so having a $Level$ = 1) actually increases their starting salary; so, iv is true.  \n",
    "$\\textbf{b)}$ Thus is a specific observation where ${IQ}_{i} = 110, {GPA}_i = 4.0, {Level}_i = 1$. So:\n",
    "\\begin{align*}\n",
    "\\widehat{salary}_i &= 50 + 20{GPA}_{i} + .07{IQ}_i + 35{Level}_{i} +.01(GPA_{i} * IQ_i) -10({GPA}_{i} * {Level}_i)\\\\\n",
    "&= 50 + 20(4.0) + .07(110) + 35(1) + .01(4.0 * 110) - 10(4.0 * 1)\\\\\n",
    "&= 137.1\n",
    "\\end{align*}\n",
    "The predicted starting salary is $\\$137,100$.  \n",
    "$\\textbf{c)}$ $\\textbf{False}$. GPA and IQ, when multiplied together, will likely produce very large values. So, even though the coefficient is small, the impact in any given observation may still be significant. In addition, we don't know the standard error of the coefficient, so we cannot comment on its statistical significance."
   ]
  },
  {
   "cell_type": "markdown",
   "metadata": {},
   "source": [
    "#### $\\textbf{------------------------------------------------ End of Question 4 ------------------------------------------------}$"
   ]
  },
  {
   "cell_type": "markdown",
   "metadata": {},
   "source": [
    "5. $(\\text{from }\\textit{An Introduction to Statistical Learning with Applications in R}\\text{, 3.7 Exercise 4})$ I collect a set of data ($n = 100$ observations) containing a single predictor and a quantitative response. I then fit a linear regression model to the data, as well as a seperate cubic regression, i.e $Y = \\beta_0 + \\beta_1X + \\beta_2X^2 + \\beta_3X^3 + \\epsilon$.  \n",
    "$\\textbf{a)}$ - SUppose that the true relationship between $X$ and $Y$ is linear, i.e $Y = \\beta_0 + \\beta_1X + \\epsilon$. Consider the training residual sum of squares (RSS) for the linear regression, and also the training RSS for the cubic regression. Would we expect one to be lower than the other, would we expect them to be the same, or is there not enough information to tell? Justify your answer.    \n",
    "$\\textbf{b)}$ - Answer $\\textbf{a)}$ using test rather than training RSS.  \n",
    "$\\textbf{c)}$ - Suppose that the true relationship between $X$ and $Y$ is not linear, but we don't know how far it is from linear. Consider the training RSS for the linear regression, and also the training RSS for the cubic regression. Would we expect one to be lower than the other, would we expcet them to be the same, or is there not enough information to tell? Justify your answer.  \n",
    "$\\textbf{d)}$ - Answer $\\textbf{c)}$ using test rather than training RSS."
   ]
  },
  {
   "cell_type": "markdown",
   "metadata": {},
   "source": [
    "$\\underline{Solution}$  \n",
    "$\\textbf{a)}$ The $\\textbf{RSS for the cubic regression would likely be lower than the RSS for the linear regression for the training dataset}$. This is because the cubic regression takes more observation information into account and thus can fit to to the training data set more accurately. In the worst possible case, where a squared term or a cubic term have no bearing on the training data, their coefficients can be lowered to near zero to have a smaller effect, which would effectively approximate an almost-linear regression. Thus, the RSS for cubic regression would be at or lower the RSS for linear regression.  \n",
    "$\\textbf{b)}$ Since the true relationship is linear, the $\\textbf{RSS for the linear regression would likely be lower than the RSS for the cubic regression}$ $\\textbf{for the testing dataset}$. Since the model is first trained on the training dataset, the cubic regression, with its extra and irrelevant terms, is likely overfit to the training dataset. Therefore, it is less accurate as it is less generalizable, and thus have a higher RSS than the linear regression, that is more indicative of the actual data.  \n",
    "$\\textbf{c)}$ Once again, the $\\textbf{RSS for the cubic regression would likely be lower than the RSS for linear regression in the training dataset}$. Despite the relationship between $X$ and $Y$ changing from part $\\textbf{a)}$, what has not changed is the fact that the features in the linear regression are just a subset of the features in the cubic regression. Thus, the cubic regression would have more features that and thus be more flexible, making the residual sum of squares at least as good, if not lower.  \n",
    "$\\textbf{d)}$ $\\textbf{We do not have enough information to tell which RSS would be smaller}$. Because the non-linearity between $X$ and $Y$ is not specified, we cannot conclude which model, cubic or linear, is more generalizable to this relationship. For this reason, we cannot make an educated guess on this question."
   ]
  },
  {
   "cell_type": "markdown",
   "metadata": {},
   "source": [
    "#### $\\textbf{------------------------------------------------ End of Question 5 ------------------------------------------------}$"
   ]
  },
  {
   "cell_type": "markdown",
   "metadata": {},
   "source": [
    "6. $(\\text{from }\\textit{An Introduction to Statistical Learning with Applications in R}\\text{, 3.7 Exercise 5})$ Conisder the fitted values that result from performing linear regression without an intercept. In this setting, the $\\textit{i}$ th fitted value takes the form\n",
    "$$\\hat{y}_i = x_i\\hat{\\beta}$$  \n",
    "where\n",
    "$$\\hat{\\beta} = \\left(\\sum_{i = 1}^{n}x_iy_i\\right)/\\left(\\sum_{i^{'} = 1}^{n}x_{i^{'}}^2\\right)$$\n",
    "Show that we can write\n",
    "$$\\hat{y_i} = \\sum_{i^{'} = 1}^{n}a_{i^{'}}y_{i^{'}}$$\n",
    "What is $a_{i^{'}}$?"
   ]
  },
  {
   "cell_type": "markdown",
   "metadata": {},
   "source": [
    "$\\underline{Solution}$  \n",
    "We can substitute the formula  for $\\hat{\\beta}$ into the formula and algebraically manipulating:\n",
    "\\begin{align*}\n",
    "\\hat{y_i} &= x_i\\hat{\\beta}\\\\\n",
    "&= x_i * \\frac{\\sum_{i = 1}^{n}x_iy_i}{\\sum_{i' = 1}x_{i'}^2}\\\\\n",
    "&= y_1 \\left(\\frac{x_1x_i}{\\sum_{i' = 1}x_{i'}^2}\\right) + y_2\\left(\\frac{x_2x_i}{\\sum_{i' = 1}x_{i'}^2}\\right) + ... + y_n\\left(\\frac{x_nx_i}{\\sum_{i' = 1}x_{i'}^2}\\right)\\\\\n",
    "&= a_1y_1 + a_2y_2 +... + a_ny_n\\\\\n",
    "&= \\sum_{i' = 1}^{n}a_{i'}y_{i'}\n",
    "\\end{align*}\n",
    "Here:\n",
    "\\begin{equation*}\n",
    "a_{i'} = \\frac{x_{i'}x_i}{\\sum_{i' = 1}x_{i'}^2}\n",
    "\\end{equation*}"
   ]
  },
  {
   "cell_type": "markdown",
   "metadata": {},
   "source": [
    "#### $\\textbf{------------------------------------------------ End of Question 6 ------------------------------------------------}$"
   ]
  },
  {
   "cell_type": "markdown",
   "metadata": {},
   "source": [
    "7. $(\\text{from }\\textit{An Introduction to Statistical Learning with Applications in R}\\text{, 3.7 Exercise 6})$ Using the following equations for the Least Squares estimates of the $\\beta$ coefficients in simple linear regression:\n",
    "$$\\hat{\\beta}_1 = \\frac{\\sum_{i = 1}^{n}(x_i - \\bar{x})(y_i - \\bar{y})}{\\sum_{i = 1}^{n}(x_i - \\bar{x}^2)} \\text{ and } \\hat{\\beta}_0 = \\bar{y} - \\hat{\\beta}_1\\bar{x}$$ \n",
    "argue that in the case of simple linear regression, the least squares line always passes through the point $(\\bar{x}, \\bar{y})$.\n"
   ]
  },
  {
   "cell_type": "markdown",
   "metadata": {},
   "source": [
    "$\\underline{Solution}$  \n",
    "The simple linear regression model is as follows:\n",
    "\\begin{equation*}\n",
    "y_i = \\beta_0 + \\beta_1x_i\n",
    "\\end{equation*}\n",
    "Given a sample, the equations in the textbook give us the estimators for the coefficients that minimize the residual sum of squares:\n",
    "\\begin{align*}\n",
    "&\\hat{\\beta_1} = \\frac{\\sum_{i = 1}^{n}(x_i - \\bar{x})(y_i - \\bar{y})}{\\sum_{i = 1}^{n}(x_i - \\bar{x})^2}\\\\\n",
    "&\\hat{\\beta_0} = \\bar{y} - \\hat{\\beta_1}\\bar{x}\n",
    "\\end{align*}\n",
    "Note that, if we plug in $\\bar{x}$ for our explanatory variable, using these estimators for $\\beta_0$ and $\\beta_1$ gives us:\n",
    "\\begin{align*}\n",
    "y_i &= \\hat{\\beta_0} + \\hat{\\beta_1}\\bar{x}\\\\\n",
    "&= \\bar{y} - \\hat{\\beta_1}\\bar{x} + \\hat{\\beta_1}\\bar{x}\\\\\n",
    "&= \\bar{y}\n",
    "\\end{align*}\n",
    "So, the least squares line indeed passes through $(\\bar{x}, \\bar{y})$."
   ]
  },
  {
   "cell_type": "markdown",
   "metadata": {},
   "source": [
    "#### $\\textbf{------------------------------------------------ End of Question 7 ------------------------------------------------}$"
   ]
  },
  {
   "cell_type": "markdown",
   "metadata": {},
   "source": [
    "## Programming Problems"
   ]
  },
  {
   "cell_type": "code",
   "execution_count": 4,
   "metadata": {},
   "outputs": [],
   "source": [
    "import pandas as pd;\n",
    "import numpy as np;\n",
    "import math;\n",
    "import statsmodels.formula.api as sm\n",
    "import matplotlib.pyplot as plt"
   ]
  },
  {
   "cell_type": "markdown",
   "metadata": {},
   "source": [
    "8. This question involves the use of simple linear regression on the Auto data set, which can be downloaded [here](https://www.statlearning.com/resources-second-edition).  \n",
    "$\\textbf{1.}$ Read the Auto data into matlab, python, or R.  \n",
    "$\\textbf{2.}$ Use least squares to perform a simple linear regression with \"mpg\" as the response and \"horsepower\" as the predictor.  \n",
    "$\\textbf{3.}$ Plot the response and the predictor, and display the least squares regression line.  \n",
    "$\\textbf{4.}$ Does the regression line fit the data well? What is the RSS?"
   ]
  },
  {
   "cell_type": "markdown",
   "metadata": {},
   "source": [
    "$\\underline{Solution}$  \n",
    "$\\textbf{1.}$"
   ]
  },
  {
   "cell_type": "code",
   "execution_count": 5,
   "metadata": {},
   "outputs": [],
   "source": [
    "#Read in Data\n",
    "df = pd.read_csv('Auto.data', sep='\\s+')\n",
    "\n",
    "\n",
    "#Find correct indices (ones with vals for horsepower and mpg)\n",
    "lengthData = len(df['mpg'])\n",
    "list_Indices = np.array([i for i in range(lengthData)])\n",
    "excludedRows = df.loc[df['horsepower'] == '?'].index.values\n",
    "regressionVals = np.setdiff1d(list_Indices, excludedRows);\n",
    "\n",
    "#create new dataframe including only non-? horsepower rows\n",
    "df_new = df.loc[regressionVals];\n",
    "df_new[\"horsepower\"] = pd.to_numeric(df_new[\"horsepower\"])"
   ]
  },
  {
   "cell_type": "markdown",
   "metadata": {},
   "source": [
    "$\\textbf{2.}$ The regression below results in $\\widehat{mpg} = 39.9359 - .1578(horsepower)$:"
   ]
  },
  {
   "cell_type": "code",
   "execution_count": 54,
   "metadata": {},
   "outputs": [
    {
     "name": "stdout",
     "output_type": "stream",
     "text": [
      "                            OLS Regression Results                            \n",
      "==============================================================================\n",
      "Dep. Variable:                    mpg   R-squared:                       0.606\n",
      "Model:                            OLS   Adj. R-squared:                  0.605\n",
      "Method:                 Least Squares   F-statistic:                     599.7\n",
      "Date:                Mon, 04 Sep 2023   Prob (F-statistic):           7.03e-81\n",
      "Time:                        20:20:33   Log-Likelihood:                -1178.7\n",
      "No. Observations:                 392   AIC:                             2361.\n",
      "Df Residuals:                     390   BIC:                             2369.\n",
      "Df Model:                           1                                         \n",
      "Covariance Type:            nonrobust                                         \n",
      "==============================================================================\n",
      "                 coef    std err          t      P>|t|      [0.025      0.975]\n",
      "------------------------------------------------------------------------------\n",
      "Intercept     39.9359      0.717     55.660      0.000      38.525      41.347\n",
      "horsepower    -0.1578      0.006    -24.489      0.000      -0.171      -0.145\n",
      "==============================================================================\n",
      "Omnibus:                       16.432   Durbin-Watson:                   0.920\n",
      "Prob(Omnibus):                  0.000   Jarque-Bera (JB):               17.305\n",
      "Skew:                           0.492   Prob(JB):                     0.000175\n",
      "Kurtosis:                       3.299   Cond. No.                         322.\n",
      "==============================================================================\n",
      "\n",
      "Notes:\n",
      "[1] Standard Errors assume that the covariance matrix of the errors is correctly specified.\n"
     ]
    }
   ],
   "source": [
    "#Run regression\n",
    "result = sm.ols(formula = \"mpg ~ horsepower\", data = df_new).fit();\n",
    "interceptVal = result.params[\"Intercept\"];\n",
    "betaVal = result.params[\"horsepower\"]\n",
    "print(result.summary())"
   ]
  },
  {
   "cell_type": "markdown",
   "metadata": {},
   "source": [
    "$\\textbf{3.}$ After creating the graph, the plot looked as follows:"
   ]
  },
  {
   "cell_type": "code",
   "execution_count": 50,
   "metadata": {},
   "outputs": [
    {
     "data": {
      "image/png": "[encoded data removed]",
      "text/plain": [
       "<Figure size 640x480 with 1 Axes>"
      ]
     },
     "metadata": {},
     "output_type": "display_data"
    }
   ],
   "source": [
    "fig, ax = plt.subplots(1,1);\n",
    "ax.scatter(df_new[\"horsepower\"], df_new[\"mpg\"], label = 'datapoints');\n",
    "ax.plot(df_new[\"horsepower\"], interceptVal + betaVal*df_new[\"horsepower\"], color = 'black', label = 'LSR line')\n",
    "plt.xlabel('Horsepower');\n",
    "plt.ylabel('mpg');\n",
    "plt.legend();\n",
    "plt.show();"
   ]
  },
  {
   "cell_type": "markdown",
   "metadata": {},
   "source": [
    "$\\textbf{4.}$ The regression line $\\textbf{does not seem to fit the data well}$ because the relationship looks non-linear (likely exponential decay), and the RSS is high, as $RSS = 9385.916$."
   ]
  },
  {
   "cell_type": "markdown",
   "metadata": {},
   "source": [
    "#### $\\textbf{------------------------------------------------ End of Question 8 ------------------------------------------------}$"
   ]
  },
  {
   "cell_type": "markdown",
   "metadata": {},
   "source": [
    "9. This question involves the use of multiple linear regression on the Auto dataset.  \n",
    "$\\textbf{1.}$ Compute the matrix of correlations. Produce a colorplot of the correlation matrix and display the matrix. You will need to exclude the \"name\" variable since it is qualitative and not useful hear. Which variables are highly correlated? Here we say a pair of variables are highly correlated if their pairwise correlation is above 0.8 (in absolute value).  \n",
    "$\\textbf{2.}$ Use least squares to perform multiply linear regression with \"mpg\" as the response and all other variables except \"name\" as the predictors. What are the coefficients and the RSS?  \n",
    "$\\textbf{3.}$ Compare the result of multiply linear regression with simple linear regression above. Which one is better?"
   ]
  },
  {
   "cell_type": "markdown",
   "metadata": {},
   "source": [
    "$\\underline{Solution}$  \n",
    "$\\textbf{1.}$ The color matrix and correlation matrix are outputted below:"
   ]
  },
  {
   "cell_type": "code",
   "execution_count": 65,
   "metadata": {},
   "outputs": [
    {
     "data": {
      "image/png": "[encoded data removed]",
      "text/plain": [
       "<Figure size 1280x960 with 2 Axes>"
      ]
     },
     "metadata": {},
     "output_type": "display_data"
    },
    {
     "data": {
      "text/html": [
       "<div>\n",
       "<style scoped>\n",
       "    .dataframe tbody tr th:only-of-type {\n",
       "        vertical-align: middle;\n",
       "    }\n",
       "\n",
       "    .dataframe tbody tr th {\n",
       "        vertical-align: top;\n",
       "    }\n",
       "\n",
       "    .dataframe thead th {\n",
       "        text-align: right;\n",
       "    }\n",
       "</style>\n",
       "<table border=\"1\" class=\"dataframe\">\n",
       "  <thead>\n",
       "    <tr style=\"text-align: right;\">\n",
       "      <th></th>\n",
       "      <th>mpg</th>\n",
       "      <th>cylinders</th>\n",
       "      <th>displacement</th>\n",
       "      <th>horsepower</th>\n",
       "      <th>weight</th>\n",
       "      <th>acceleration</th>\n",
       "      <th>year</th>\n",
       "      <th>origin</th>\n",
       "    </tr>\n",
       "  </thead>\n",
       "  <tbody>\n",
       "    <tr>\n",
       "      <th>mpg</th>\n",
       "      <td>1.000000</td>\n",
       "      <td>-0.777618</td>\n",
       "      <td>-0.805127</td>\n",
       "      <td>-0.778427</td>\n",
       "      <td>-0.832244</td>\n",
       "      <td>0.423329</td>\n",
       "      <td>0.580541</td>\n",
       "      <td>0.565209</td>\n",
       "    </tr>\n",
       "    <tr>\n",
       "      <th>cylinders</th>\n",
       "      <td>-0.777618</td>\n",
       "      <td>1.000000</td>\n",
       "      <td>0.950823</td>\n",
       "      <td>0.842983</td>\n",
       "      <td>0.897527</td>\n",
       "      <td>-0.504683</td>\n",
       "      <td>-0.345647</td>\n",
       "      <td>-0.568932</td>\n",
       "    </tr>\n",
       "    <tr>\n",
       "      <th>displacement</th>\n",
       "      <td>-0.805127</td>\n",
       "      <td>0.950823</td>\n",
       "      <td>1.000000</td>\n",
       "      <td>0.897257</td>\n",
       "      <td>0.932994</td>\n",
       "      <td>-0.543800</td>\n",
       "      <td>-0.369855</td>\n",
       "      <td>-0.614535</td>\n",
       "    </tr>\n",
       "    <tr>\n",
       "      <th>horsepower</th>\n",
       "      <td>-0.778427</td>\n",
       "      <td>0.842983</td>\n",
       "      <td>0.897257</td>\n",
       "      <td>1.000000</td>\n",
       "      <td>0.864538</td>\n",
       "      <td>-0.689196</td>\n",
       "      <td>-0.416361</td>\n",
       "      <td>-0.455171</td>\n",
       "    </tr>\n",
       "    <tr>\n",
       "      <th>weight</th>\n",
       "      <td>-0.832244</td>\n",
       "      <td>0.897527</td>\n",
       "      <td>0.932994</td>\n",
       "      <td>0.864538</td>\n",
       "      <td>1.000000</td>\n",
       "      <td>-0.416839</td>\n",
       "      <td>-0.309120</td>\n",
       "      <td>-0.585005</td>\n",
       "    </tr>\n",
       "    <tr>\n",
       "      <th>acceleration</th>\n",
       "      <td>0.423329</td>\n",
       "      <td>-0.504683</td>\n",
       "      <td>-0.543800</td>\n",
       "      <td>-0.689196</td>\n",
       "      <td>-0.416839</td>\n",
       "      <td>1.000000</td>\n",
       "      <td>0.290316</td>\n",
       "      <td>0.212746</td>\n",
       "    </tr>\n",
       "    <tr>\n",
       "      <th>year</th>\n",
       "      <td>0.580541</td>\n",
       "      <td>-0.345647</td>\n",
       "      <td>-0.369855</td>\n",
       "      <td>-0.416361</td>\n",
       "      <td>-0.309120</td>\n",
       "      <td>0.290316</td>\n",
       "      <td>1.000000</td>\n",
       "      <td>0.181528</td>\n",
       "    </tr>\n",
       "    <tr>\n",
       "      <th>origin</th>\n",
       "      <td>0.565209</td>\n",
       "      <td>-0.568932</td>\n",
       "      <td>-0.614535</td>\n",
       "      <td>-0.455171</td>\n",
       "      <td>-0.585005</td>\n",
       "      <td>0.212746</td>\n",
       "      <td>0.181528</td>\n",
       "      <td>1.000000</td>\n",
       "    </tr>\n",
       "  </tbody>\n",
       "</table>\n",
       "</div>"
      ],
      "text/plain": [
       "                   mpg  cylinders  displacement  horsepower    weight  \\\n",
       "mpg           1.000000  -0.777618     -0.805127   -0.778427 -0.832244   \n",
       "cylinders    -0.777618   1.000000      0.950823    0.842983  0.897527   \n",
       "displacement -0.805127   0.950823      1.000000    0.897257  0.932994   \n",
       "horsepower   -0.778427   0.842983      0.897257    1.000000  0.864538   \n",
       "weight       -0.832244   0.897527      0.932994    0.864538  1.000000   \n",
       "acceleration  0.423329  -0.504683     -0.543800   -0.689196 -0.416839   \n",
       "year          0.580541  -0.345647     -0.369855   -0.416361 -0.309120   \n",
       "origin        0.565209  -0.568932     -0.614535   -0.455171 -0.585005   \n",
       "\n",
       "              acceleration      year    origin  \n",
       "mpg               0.423329  0.580541  0.565209  \n",
       "cylinders        -0.504683 -0.345647 -0.568932  \n",
       "displacement     -0.543800 -0.369855 -0.614535  \n",
       "horsepower       -0.689196 -0.416361 -0.455171  \n",
       "weight           -0.416839 -0.309120 -0.585005  \n",
       "acceleration      1.000000  0.290316  0.212746  \n",
       "year              0.290316  1.000000  0.181528  \n",
       "origin            0.212746  0.181528  1.000000  "
      ]
     },
     "execution_count": 65,
     "metadata": {},
     "output_type": "execute_result"
    }
   ],
   "source": [
    "#get rid of name \n",
    "df_no_name = df_new.drop(columns = \"name\");\n",
    "\n",
    "#Generate correlation matrix\n",
    "corrMat = df_no_name.corr();\n",
    "\n",
    "#Create color\n",
    "fig,ax = plt.subplots(1,1, figsize = (12.8,9.6))\n",
    "cax = ax.matshow(df_no_name.corr(),interpolation = 'nearest', cmap = \"PuOr\");\n",
    "fig.colorbar(cax)\n",
    "list_cols = list(df_no_name.columns.values)\n",
    "\n",
    "ax.set_xticks([i for i in range(len(df_no_name.columns.values))], labels = list_cols);\n",
    "ax.set_yticks([i for i in range(len(df_no_name.columns.values))], labels = list_cols)\n",
    "\n",
    "\n",
    "plt.show();\n",
    "corrMat"
   ]
  },
  {
   "cell_type": "markdown",
   "metadata": {},
   "source": [
    "The variables that appear highly correlated (having an absolute value of correlation above .8) are:  \n",
    "- mpg and displacement; mpg and weight\n",
    "- cylinders and displacement, cylinders and horsepower, cylinders and weight\n",
    "- displacement and weight\n",
    "- horsepower and weight"
   ]
  },
  {
   "cell_type": "markdown",
   "metadata": {},
   "source": [
    "$\\textbf{2.}$ We run the regression below to get:"
   ]
  },
  {
   "cell_type": "code",
   "execution_count": 62,
   "metadata": {},
   "outputs": [
    {
     "name": "stdout",
     "output_type": "stream",
     "text": [
      "                            OLS Regression Results                            \n",
      "==============================================================================\n",
      "Dep. Variable:                    mpg   R-squared:                       0.821\n",
      "Model:                            OLS   Adj. R-squared:                  0.818\n",
      "Method:                 Least Squares   F-statistic:                     252.4\n",
      "Date:                Mon, 04 Sep 2023   Prob (F-statistic):          2.04e-139\n",
      "Time:                        20:54:33   Log-Likelihood:                -1023.5\n",
      "No. Observations:                 392   AIC:                             2063.\n",
      "Df Residuals:                     384   BIC:                             2095.\n",
      "Df Model:                           7                                         \n",
      "Covariance Type:            nonrobust                                         \n",
      "================================================================================\n",
      "                   coef    std err          t      P>|t|      [0.025      0.975]\n",
      "--------------------------------------------------------------------------------\n",
      "Intercept      -17.2184      4.644     -3.707      0.000     -26.350      -8.087\n",
      "cylinders       -0.4934      0.323     -1.526      0.128      -1.129       0.142\n",
      "displacement     0.0199      0.008      2.647      0.008       0.005       0.035\n",
      "horsepower      -0.0170      0.014     -1.230      0.220      -0.044       0.010\n",
      "weight          -0.0065      0.001     -9.929      0.000      -0.008      -0.005\n",
      "acceleration     0.0806      0.099      0.815      0.415      -0.114       0.275\n",
      "year             0.7508      0.051     14.729      0.000       0.651       0.851\n",
      "origin           1.4261      0.278      5.127      0.000       0.879       1.973\n",
      "==============================================================================\n",
      "Omnibus:                       31.906   Durbin-Watson:                   1.309\n",
      "Prob(Omnibus):                  0.000   Jarque-Bera (JB):               53.100\n",
      "Skew:                           0.529   Prob(JB):                     2.95e-12\n",
      "Kurtosis:                       4.460   Cond. No.                     8.59e+04\n",
      "==============================================================================\n",
      "\n",
      "Notes:\n",
      "[1] Standard Errors assume that the covariance matrix of the errors is correctly specified.\n",
      "[2] The condition number is large, 8.59e+04. This might indicate that there are\n",
      "strong multicollinearity or other numerical problems.\n"
     ]
    }
   ],
   "source": [
    "result2 = sm.ols(formula = \"mpg ~ cylinders + displacement + horsepower + weight + acceleration + year + origin\", data = df_no_name).fit();\n",
    "print(result2.summary())"
   ]
  },
  {
   "cell_type": "markdown",
   "metadata": {},
   "source": [
    "The sum of Squared residuals is:"
   ]
  },
  {
   "cell_type": "code",
   "execution_count": 61,
   "metadata": {},
   "outputs": [
    {
     "name": "stdout",
     "output_type": "stream",
     "text": [
      "Sum of squared Residuals:  4252.212530440177\n"
     ]
    }
   ],
   "source": [
    "print(\"Sum of squared Residuals: \", result2.ssr)"
   ]
  },
  {
   "cell_type": "markdown",
   "metadata": {},
   "source": [
    "$\\textbf{3.}$ The multiple regression seems better, as it has a lower SSR and higher R-squared. However, the high correlation between predictor variables may leave some coefficients biased. This leads me to deduce that the simple linear regression is actually better."
   ]
  },
  {
   "cell_type": "markdown",
   "metadata": {},
   "source": [
    "#### $\\textbf{------------------------------------------------ End of Question 9 ------------------------------------------------}$"
   ]
  },
  {
   "cell_type": "code",
   "execution_count": 48,
   "metadata": {},
   "outputs": [
    {
     "data": {
      "text/plain": [
       "Text(0.5, 0.98, 'My plot')"
      ]
     },
     "execution_count": 48,
     "metadata": {},
     "output_type": "execute_result"
    },
    {
     "data": {
      "image/png": "[encoded data removed]",
      "text/plain": [
       "<Figure size 1200x600 with 1 Axes>"
      ]
     },
     "metadata": {},
     "output_type": "display_data"
    }
   ],
   "source": [
    "def func(x):\n",
    "    return x**2\n",
    "\n",
    "def func2(x):\n",
    "    return x**3\n",
    "\n",
    "fig, ax = plt.subplots(1, 1, figsize=(12, 6))\n",
    "xvals = np.linspace(0, 1, 100)\n",
    "ax.plot(xvals, [func(x) for x in xvals], c='r')\n",
    "ax.scatter(x=xvals, y=[func2(x) for x in xvals])\n",
    "plt.suptitle('My plot')\n",
    "#plt.show()"
   ]
  }
 ],
 "metadata": {
  "kernelspec": {
   "display_name": "base",
   "language": "python",
   "name": "python3"
  },
  "language_info": {
   "codemirror_mode": {
    "name": "ipython",
    "version": 3
   },
   "file_extension": ".py",
   "mimetype": "text/x-python",
   "name": "python",
   "nbconvert_exporter": "python",
   "pygments_lexer": "ipython3",
   "version": "3.11.5"
  },
  "orig_nbformat": 4
 },
 "nbformat": 4,
 "nbformat_minor": 2
}
