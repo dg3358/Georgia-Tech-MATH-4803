{
 "cells": [
  {
   "cell_type": "markdown",
   "metadata": {},
   "source": [
    "# Homework 1"
   ]
  },
  {
   "cell_type": "markdown",
   "metadata": {},
   "source": [
    "## Theoretical Problems"
   ]
  },
  {
   "cell_type": "markdown",
   "metadata": {},
   "source": [
    "1. Find the least-squares solution $\\overrightarrow{x}$<sup>\\* </sup> of the linear system $$A\\overrightarrow{x} = \\overrightarrow{b}$$ where $$A = \\begin{pmatrix} 1 & 1 \\\\ 1 & 2 \\\\ 1 & 3\\end{pmatrix} \\text{ and } \\overrightarrow{b} = \\begin{pmatrix} 0 \\\\ 0\\\\ 6\\end{pmatrix}$$ What is a geometric relationship between $A\\overrightarrow{x}$<sup>\\*</sup> and $\\overrightarrow{b}$? Draw a picture to illustrate this."
   ]
  },
  {
   "cell_type": "markdown",
   "metadata": {},
   "source": [
    "$\\underline{Solution}\\\\$\n",
    "Using row reduction, we can see that: $$ \\left(\\begin{array}{cc|c}\n",
    "1 & 1 & 0\\\\\n",
    "1 & 2 & 0\\\\\n",
    "1 & 3 & 6\n",
    "\\end{array}\\right) \\xrightarrow[R_2 = R_2 - R_1]{R_3 = R_3 - R_1} \\left(\\begin{array}{cc|c}\n",
    "1 & 1 & 0\\\\\n",
    "0 & 1 & 0\\\\\n",
    "0 & 2 & 6\n",
    "\\end{array}\\right) $$ Note here that $x_2 = 0$ from row 2 but $2x_2 = 6 \\rightarrow x_2 = 3$ from row 3, making a perfect solution impossible. So, we will solve this system by solving the normal equation $A^Tb = A^TAx$<sup>\\*</sup>$\\rightarrow x$<sup>\\*</sup>$= \\left(A^TA\\right)^{-1}A^Tb$.\n",
    "First, we compute $(A^TA)^{-1}$: $$ \\left(\\begin{pmatrix} 1 & 1 & 1 \\\\ 1 & 2 & 3\\end{pmatrix} \\ast \\begin{pmatrix} 1 & 1 \\\\ 1 & 2 \\\\ 1 & 3 \\end{pmatrix}\\right)^{-1} = \\left( \\begin{pmatrix} 3 & 6 \\\\ 6 & 14\\end{pmatrix}\\right)^{-1}$$\n",
    "Note that the determinant of this matrix is $\\det(A^{T}A) = 3(14) - 6(6) = 6$. So we find the inverse: $$(A^TA)^{-1} = \\frac{1}{6}\\begin{pmatrix} 14 & -6 \\\\ -6 & 3\\end{pmatrix} = \\begin{pmatrix} \\frac{7}{3} & -1 \\\\ -1 & \\frac{1}{2}\\end{pmatrix}$$\n",
    "Then, we multiply $A^Tb$:\n",
    "$$\\begin{pmatrix} 1 & 1 & 1 \\\\ 1 & 2 & 3\\end{pmatrix} \\ast \\begin{pmatrix} 0 \\\\ 0 \\\\ 6 \\end{pmatrix} = \\begin{pmatrix} 6 \\\\ 18\\end{pmatrix}$$\n",
    "Then, we multiply $(A^TA)^{-1}A^Tb$:\n",
    "$$x^{\\ast} = (A^TA)^{-1}A^Tb = \\begin{pmatrix} \\frac{7}{3} & -1 \\\\ -1 & \\frac{1}{2}\\end{pmatrix} \\ast \\begin{pmatrix} 6 \\\\ 18 \\end{pmatrix} = \\begin{pmatrix} -4 \\\\ 3 \\end{pmatrix}$$\n",
    "Note that:\n",
    "$$Ax^\\ast = \\begin{pmatrix} 1 & 1 \\\\ 1 & 2 \\\\ 1 & 3 \\end{pmatrix} \\ast \\begin{pmatrix} -4 \\\\ 3 \\end{pmatrix} = \\begin{pmatrix} -1 \\\\ 2 \\\\ 5\\end{pmatrix}$$\n",
    "Graphing both $A$, and $b$ in Geogebra:  \n",
    "<p align = \"center\">\n",
    "<img src = \"HW 1 - Picture (Geogebra).png\"\n",
    "     height = 400px\n",
    "     width = 800px>\n",
    "</p>\n",
    "\n",
    "Here, $A$ is the plane of the two columns going through the origin point. Note that the intersection point of the perpendicular line to $b$ and the plane is $(-1,2,5)$, which is exactly $Ax^\\ast$. Thus, $Ax^\\ast$ is the $\\textbf{orthogonal projection}$ of $b$ onto the plane created by the columns of $A$ going through the origin."
   ]
  },
  {
   "cell_type": "markdown",
   "metadata": {},
   "source": [
    "#### $\\textbf{-------------------------------------- End of Question 1 ---------------------------------------}$"
   ]
  },
  {
   "cell_type": "markdown",
   "metadata": {},
   "source": [
    "2. "
   ]
  },
  {
   "cell_type": "code",
   "execution_count": 1,
   "metadata": {},
   "outputs": [],
   "source": [
    "import pandas as pd;\n",
    "import numpy as np;\n",
    "import math;\n",
    "import statsmodels.formula.api as sm\n",
    "import matplotlib.pyplot as plt"
   ]
  },
  {
   "cell_type": "markdown",
   "metadata": {},
   "source": []
  }
 ],
 "metadata": {
  "kernelspec": {
   "display_name": "base",
   "language": "python",
   "name": "python3"
  },
  "language_info": {
   "codemirror_mode": {
    "name": "ipython",
    "version": 3
   },
   "file_extension": ".py",
   "mimetype": "text/x-python",
   "name": "python",
   "nbconvert_exporter": "python",
   "pygments_lexer": "ipython3",
   "version": "3.9.12"
  },
  "orig_nbformat": 4
 },
 "nbformat": 4,
 "nbformat_minor": 2
}
